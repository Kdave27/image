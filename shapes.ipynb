{
  "nbformat": 4,
  "nbformat_minor": 0,
  "metadata": {
    "colab": {
      "provenance": []
    },
    "kernelspec": {
      "name": "python3",
      "display_name": "Python 3"
    },
    "language_info": {
      "name": "python"
    }
  },
  "cells": [
    {
      "cell_type": "markdown",
      "source": [
        "Name : Nishit Soni\n",
        "\n",
        "SAP : 40778230033\n",
        "\n",
        "Experiment 4: Basic geometric\n",
        "Operations using OpenCV\n",
        "\n",
        "Aim: To Basic geometric Operations on an image."
      ],
      "metadata": {
        "id": "j7M8q45cQbka"
      }
    },
    {
      "cell_type": "code",
      "execution_count": null,
      "metadata": {
        "id": "HPY-6W3o2GEJ"
      },
      "outputs": [],
      "source": [
        "import cv2\n",
        "import numpy as np\n",
        "from google.colab.patches import cv2_imshow\n",
        "\n",
        "# Create a black and white image (black image of size 500x500)\n",
        "image = np.zeros((512, 512, 3), np.uint8)\n"
      ]
    },
    {
      "cell_type": "code",
      "source": [
        "# Draw a line from (0,0) to (500,500) with white color and thickness of 5\n",
        "image = np.zeros((512, 512, 3), np.uint8)\n",
        "cv2.line(image, (0, 0), (500, 500), (255, 255, 255), 5)\n",
        "cv2_imshow(image)"
      ],
      "metadata": {
        "colab": {
          "base_uri": "https://localhost:8080/",
          "height": 529
        },
        "id": "dErF2IKm2M59",
        "outputId": "9f04072b-3d3a-438a-8922-749aa1eebfc2"
      },
      "execution_count": null,
      "outputs": [
        {
          "output_type": "display_data",
          "data": {
            "text/plain": [
              "<PIL.Image.Image image mode=RGB size=512x512>"
            ],
            "image/png": "[encoded data removed]"
          },
          "metadata": {}
        }
      ]
    },
    {
      "cell_type": "code",
      "source": [
        "# Draw an arrowed line from (500,0) to (0,500) with white color and thickness of 5\n",
        "image = np.zeros((500, 500, 3), dtype=\"uint8\")\n",
        "cv2.arrowedLine(image, (500, 0), (0, 500), (255, 255, 255), 5)"
      ],
      "metadata": {
        "colab": {
          "base_uri": "https://localhost:8080/",
          "height": 540
        },
        "id": "3NQ_lIr62Wvj",
        "outputId": "4a295dcc-32f9-4eac-872d-9b4b95e40616"
      },
      "execution_count": null,
      "outputs": [
        {
          "output_type": "execute_result",
          "data": {
            "text/plain": [
              "array([[[  0,   0,   0],\n",
              "        [  0,   0,   0],\n",
              "        [  0,   0,   0],\n",
              "        ...,\n",
              "        [255, 255, 255],\n",
              "        [255, 255, 255],\n",
              "        [255, 255, 255]],\n",
              "\n",
              "       [[  0,   0,   0],\n",
              "        [  0,   0,   0],\n",
              "        [  0,   0,   0],\n",
              "        ...,\n",
              "        [255, 255, 255],\n",
              "        [255, 255, 255],\n",
              "        [255, 255, 255]],\n",
              "\n",
              "       [[  0,   0,   0],\n",
              "        [  0,   0,   0],\n",
              "        [  0,   0,   0],\n",
              "        ...,\n",
              "        [255, 255, 255],\n",
              "        [255, 255, 255],\n",
              "        [255, 255, 255]],\n",
              "\n",
              "       ...,\n",
              "\n",
              "       [[255, 255, 255],\n",
              "        [255, 255, 255],\n",
              "        [255, 255, 255],\n",
              "        ...,\n",
              "        [  0,   0,   0],\n",
              "        [  0,   0,   0],\n",
              "        [  0,   0,   0]],\n",
              "\n",
              "       [[255, 255, 255],\n",
              "        [255, 255, 255],\n",
              "        [255, 255, 255],\n",
              "        ...,\n",
              "        [  0,   0,   0],\n",
              "        [  0,   0,   0],\n",
              "        [  0,   0,   0]],\n",
              "\n",
              "       [[255, 255, 255],\n",
              "        [255, 255, 255],\n",
              "        [255, 255, 255],\n",
              "        ...,\n",
              "        [  0,   0,   0],\n",
              "        [  0,   0,   0],\n",
              "        [  0,   0,   0]]], dtype=uint8)"
            ],
            "text/html": [
              "<style>\n",
              "      .ndarray_repr .ndarray_raw_data {\n",
              "        display: none;\n",
              "      }\n",
              "      .ndarray_repr.show_array .ndarray_raw_data {\n",
              "        display: block;\n",
              "      }\n",
              "      .ndarray_repr.show_array .ndarray_image_preview {\n",
              "        display: none;\n",
              "      }\n",
              "      </style>\n",
              "      <div id=\"id-f9a6d347-4f86-4935-a43f-21e794685c90\" class=\"ndarray_repr\"><pre>ndarray (500, 500, 3) <button style=\"padding: 0 2px;\">show data</button></pre><img src=\"data:image/png;base64,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\" class=\"ndarray_image_preview\" /><pre class=\"ndarray_raw_data\">array([[[  0,   0,   0],\n",
              "        [  0,   0,   0],\n",
              "        [  0,   0,   0],\n",
              "        ...,\n",
              "        [255, 255, 255],\n",
              "        [255, 255, 255],\n",
              "        [255, 255, 255]],\n",
              "\n",
              "       [[  0,   0,   0],\n",
              "        [  0,   0,   0],\n",
              "        [  0,   0,   0],\n",
              "        ...,\n",
              "        [255, 255, 255],\n",
              "        [255, 255, 255],\n",
              "        [255, 255, 255]],\n",
              "\n",
              "       [[  0,   0,   0],\n",
              "        [  0,   0,   0],\n",
              "        [  0,   0,   0],\n",
              "        ...,\n",
              "        [255, 255, 255],\n",
              "        [255, 255, 255],\n",
              "        [255, 255, 255]],\n",
              "\n",
              "       ...,\n",
              "\n",
              "       [[255, 255, 255],\n",
              "        [255, 255, 255],\n",
              "        [255, 255, 255],\n",
              "        ...,\n",
              "        [  0,   0,   0],\n",
              "        [  0,   0,   0],\n",
              "        [  0,   0,   0]],\n",
              "\n",
              "       [[255, 255, 255],\n",
              "        [255, 255, 255],\n",
              "        [255, 255, 255],\n",
              "        ...,\n",
              "        [  0,   0,   0],\n",
              "        [  0,   0,   0],\n",
              "        [  0,   0,   0]],\n",
              "\n",
              "       [[255, 255, 255],\n",
              "        [255, 255, 255],\n",
              "        [255, 255, 255],\n",
              "        ...,\n",
              "        [  0,   0,   0],\n",
              "        [  0,   0,   0],\n",
              "        [  0,   0,   0]]], dtype=uint8)</pre></div><script>\n",
              "      (() => {\n",
              "      const titles = ['show data', 'hide data'];\n",
              "      let index = 0\n",
              "      document.querySelector('#id-f9a6d347-4f86-4935-a43f-21e794685c90 button').onclick = (e) => {\n",
              "        document.querySelector('#id-f9a6d347-4f86-4935-a43f-21e794685c90').classList.toggle('show_array');\n",
              "        index = (++index) % 2;\n",
              "        document.querySelector('#id-f9a6d347-4f86-4935-a43f-21e794685c90 button').textContent = titles[index];\n",
              "        e.preventDefault();\n",
              "        e.stopPropagation();\n",
              "      }\n",
              "      })();\n",
              "    </script>"
            ]
          },
          "metadata": {},
          "execution_count": 6
        }
      ]
    },
    {
      "cell_type": "code",
      "source": [
        "# Draw a rectangle from top-left corner (100,100) to bottom-right corner (400,400) with white color and thickness of 5\n",
        "image = np.zeros((500, 500, 3), dtype=\"uint8\")\n",
        "cv2.rectangle(image, (100, 100), (400, 400), (255, 255, 255), 5)"
      ],
      "metadata": {
        "colab": {
          "base_uri": "https://localhost:8080/",
          "height": 540
        },
        "id": "E_Hr8Pyj3C2l",
        "outputId": "93833f5e-41d0-4940-b3c1-091fb83911b2"
      },
      "execution_count": null,
      "outputs": [
        {
          "output_type": "execute_result",
          "data": {
            "text/plain": [
              "array([[[0, 0, 0],\n",
              "        [0, 0, 0],\n",
              "        [0, 0, 0],\n",
              "        ...,\n",
              "        [0, 0, 0],\n",
              "        [0, 0, 0],\n",
              "        [0, 0, 0]],\n",
              "\n",
              "       [[0, 0, 0],\n",
              "        [0, 0, 0],\n",
              "        [0, 0, 0],\n",
              "        ...,\n",
              "        [0, 0, 0],\n",
              "        [0, 0, 0],\n",
              "        [0, 0, 0]],\n",
              "\n",
              "       [[0, 0, 0],\n",
              "        [0, 0, 0],\n",
              "        [0, 0, 0],\n",
              "        ...,\n",
              "        [0, 0, 0],\n",
              "        [0, 0, 0],\n",
              "        [0, 0, 0]],\n",
              "\n",
              "       ...,\n",
              "\n",
              "       [[0, 0, 0],\n",
              "        [0, 0, 0],\n",
              "        [0, 0, 0],\n",
              "        ...,\n",
              "        [0, 0, 0],\n",
              "        [0, 0, 0],\n",
              "        [0, 0, 0]],\n",
              "\n",
              "       [[0, 0, 0],\n",
              "        [0, 0, 0],\n",
              "        [0, 0, 0],\n",
              "        ...,\n",
              "        [0, 0, 0],\n",
              "        [0, 0, 0],\n",
              "        [0, 0, 0]],\n",
              "\n",
              "       [[0, 0, 0],\n",
              "        [0, 0, 0],\n",
              "        [0, 0, 0],\n",
              "        ...,\n",
              "        [0, 0, 0],\n",
              "        [0, 0, 0],\n",
              "        [0, 0, 0]]], dtype=uint8)"
            ],
            "text/html": [
              "<style>\n",
              "      .ndarray_repr .ndarray_raw_data {\n",
              "        display: none;\n",
              "      }\n",
              "      .ndarray_repr.show_array .ndarray_raw_data {\n",
              "        display: block;\n",
              "      }\n",
              "      .ndarray_repr.show_array .ndarray_image_preview {\n",
              "        display: none;\n",
              "      }\n",
              "      </style>\n",
              "      <div id=\"id-14cfc652-8101-4297-bcee-2229f3958c6a\" class=\"ndarray_repr\"><pre>ndarray (500, 500, 3) <button style=\"padding: 0 2px;\">show data</button></pre><img src=\"data:image/png;base64,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\" class=\"ndarray_image_preview\" /><pre class=\"ndarray_raw_data\">array([[[0, 0, 0],\n",
              "        [0, 0, 0],\n",
              "        [0, 0, 0],\n",
              "        ...,\n",
              "        [0, 0, 0],\n",
              "        [0, 0, 0],\n",
              "        [0, 0, 0]],\n",
              "\n",
              "       [[0, 0, 0],\n",
              "        [0, 0, 0],\n",
              "        [0, 0, 0],\n",
              "        ...,\n",
              "        [0, 0, 0],\n",
              "        [0, 0, 0],\n",
              "        [0, 0, 0]],\n",
              "\n",
              "       [[0, 0, 0],\n",
              "        [0, 0, 0],\n",
              "        [0, 0, 0],\n",
              "        ...,\n",
              "        [0, 0, 0],\n",
              "        [0, 0, 0],\n",
              "        [0, 0, 0]],\n",
              "\n",
              "       ...,\n",
              "\n",
              "       [[0, 0, 0],\n",
              "        [0, 0, 0],\n",
              "        [0, 0, 0],\n",
              "        ...,\n",
              "        [0, 0, 0],\n",
              "        [0, 0, 0],\n",
              "        [0, 0, 0]],\n",
              "\n",
              "       [[0, 0, 0],\n",
              "        [0, 0, 0],\n",
              "        [0, 0, 0],\n",
              "        ...,\n",
              "        [0, 0, 0],\n",
              "        [0, 0, 0],\n",
              "        [0, 0, 0]],\n",
              "\n",
              "       [[0, 0, 0],\n",
              "        [0, 0, 0],\n",
              "        [0, 0, 0],\n",
              "        ...,\n",
              "        [0, 0, 0],\n",
              "        [0, 0, 0],\n",
              "        [0, 0, 0]]], dtype=uint8)</pre></div><script>\n",
              "      (() => {\n",
              "      const titles = ['show data', 'hide data'];\n",
              "      let index = 0\n",
              "      document.querySelector('#id-14cfc652-8101-4297-bcee-2229f3958c6a button').onclick = (e) => {\n",
              "        document.querySelector('#id-14cfc652-8101-4297-bcee-2229f3958c6a').classList.toggle('show_array');\n",
              "        index = (++index) % 2;\n",
              "        document.querySelector('#id-14cfc652-8101-4297-bcee-2229f3958c6a button').textContent = titles[index];\n",
              "        e.preventDefault();\n",
              "        e.stopPropagation();\n",
              "      }\n",
              "      })();\n",
              "    </script>"
            ]
          },
          "metadata": {},
          "execution_count": 24
        }
      ]
    },
    {
      "cell_type": "code",
      "source": [
        "# Draw a circle at center (250,250) with radius 100 with white color and thickness of 5\n",
        "image = np.zeros((500, 500, 3), dtype=\"uint8\")\n",
        "cv2.circle(image, (250, 250), 100, (255, 255, 255), 5)\n"
      ],
      "metadata": {
        "colab": {
          "base_uri": "https://localhost:8080/",
          "height": 540
        },
        "id": "VYvdr94N3QS5",
        "outputId": "35501ef7-69e3-408e-9d82-b9da31405d55"
      },
      "execution_count": null,
      "outputs": [
        {
          "output_type": "execute_result",
          "data": {
            "text/plain": [
              "array([[[0, 0, 0],\n",
              "        [0, 0, 0],\n",
              "        [0, 0, 0],\n",
              "        ...,\n",
              "        [0, 0, 0],\n",
              "        [0, 0, 0],\n",
              "        [0, 0, 0]],\n",
              "\n",
              "       [[0, 0, 0],\n",
              "        [0, 0, 0],\n",
              "        [0, 0, 0],\n",
              "        ...,\n",
              "        [0, 0, 0],\n",
              "        [0, 0, 0],\n",
              "        [0, 0, 0]],\n",
              "\n",
              "       [[0, 0, 0],\n",
              "        [0, 0, 0],\n",
              "        [0, 0, 0],\n",
              "        ...,\n",
              "        [0, 0, 0],\n",
              "        [0, 0, 0],\n",
              "        [0, 0, 0]],\n",
              "\n",
              "       ...,\n",
              "\n",
              "       [[0, 0, 0],\n",
              "        [0, 0, 0],\n",
              "        [0, 0, 0],\n",
              "        ...,\n",
              "        [0, 0, 0],\n",
              "        [0, 0, 0],\n",
              "        [0, 0, 0]],\n",
              "\n",
              "       [[0, 0, 0],\n",
              "        [0, 0, 0],\n",
              "        [0, 0, 0],\n",
              "        ...,\n",
              "        [0, 0, 0],\n",
              "        [0, 0, 0],\n",
              "        [0, 0, 0]],\n",
              "\n",
              "       [[0, 0, 0],\n",
              "        [0, 0, 0],\n",
              "        [0, 0, 0],\n",
              "        ...,\n",
              "        [0, 0, 0],\n",
              "        [0, 0, 0],\n",
              "        [0, 0, 0]]], dtype=uint8)"
            ],
            "text/html": [
              "<style>\n",
              "      .ndarray_repr .ndarray_raw_data {\n",
              "        display: none;\n",
              "      }\n",
              "      .ndarray_repr.show_array .ndarray_raw_data {\n",
              "        display: block;\n",
              "      }\n",
              "      .ndarray_repr.show_array .ndarray_image_preview {\n",
              "        display: none;\n",
              "      }\n",
              "      </style>\n",
              "      <div id=\"id-f641c3f9-32a2-42ce-888f-8fa732b1e8ec\" class=\"ndarray_repr\"><pre>ndarray (500, 500, 3) <button style=\"padding: 0 2px;\">show data</button></pre><img src=\"data:image/png;base64,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\" class=\"ndarray_image_preview\" /><pre class=\"ndarray_raw_data\">array([[[0, 0, 0],\n",
              "        [0, 0, 0],\n",
              "        [0, 0, 0],\n",
              "        ...,\n",
              "        [0, 0, 0],\n",
              "        [0, 0, 0],\n",
              "        [0, 0, 0]],\n",
              "\n",
              "       [[0, 0, 0],\n",
              "        [0, 0, 0],\n",
              "        [0, 0, 0],\n",
              "        ...,\n",
              "        [0, 0, 0],\n",
              "        [0, 0, 0],\n",
              "        [0, 0, 0]],\n",
              "\n",
              "       [[0, 0, 0],\n",
              "        [0, 0, 0],\n",
              "        [0, 0, 0],\n",
              "        ...,\n",
              "        [0, 0, 0],\n",
              "        [0, 0, 0],\n",
              "        [0, 0, 0]],\n",
              "\n",
              "       ...,\n",
              "\n",
              "       [[0, 0, 0],\n",
              "        [0, 0, 0],\n",
              "        [0, 0, 0],\n",
              "        ...,\n",
              "        [0, 0, 0],\n",
              "        [0, 0, 0],\n",
              "        [0, 0, 0]],\n",
              "\n",
              "       [[0, 0, 0],\n",
              "        [0, 0, 0],\n",
              "        [0, 0, 0],\n",
              "        ...,\n",
              "        [0, 0, 0],\n",
              "        [0, 0, 0],\n",
              "        [0, 0, 0]],\n",
              "\n",
              "       [[0, 0, 0],\n",
              "        [0, 0, 0],\n",
              "        [0, 0, 0],\n",
              "        ...,\n",
              "        [0, 0, 0],\n",
              "        [0, 0, 0],\n",
              "        [0, 0, 0]]], dtype=uint8)</pre></div><script>\n",
              "      (() => {\n",
              "      const titles = ['show data', 'hide data'];\n",
              "      let index = 0\n",
              "      document.querySelector('#id-f641c3f9-32a2-42ce-888f-8fa732b1e8ec button').onclick = (e) => {\n",
              "        document.querySelector('#id-f641c3f9-32a2-42ce-888f-8fa732b1e8ec').classList.toggle('show_array');\n",
              "        index = (++index) % 2;\n",
              "        document.querySelector('#id-f641c3f9-32a2-42ce-888f-8fa732b1e8ec button').textContent = titles[index];\n",
              "        e.preventDefault();\n",
              "        e.stopPropagation();\n",
              "      }\n",
              "      })();\n",
              "    </script>"
            ]
          },
          "metadata": {},
          "execution_count": 14
        }
      ]
    },
    {
      "cell_type": "code",
      "source": [
        "# Draw text 'OpenCV' at bottom-left corner (50,450) with font type, font size, color and thickness\n",
        "image = np.zeros((512, 512, 3), dtype=\"uint8\")\n",
        "cv2.putText(image, 'Nishit Soni', (50, 450), cv2.FONT_HERSHEY_SIMPLEX, 2, (255, 255, 255), 5)\n",
        "cv2_imshow(image)"
      ],
      "metadata": {
        "colab": {
          "base_uri": "https://localhost:8080/",
          "height": 529
        },
        "id": "kZ413pP43adp",
        "outputId": "b7630a4c-74ae-48d5-dc6f-4f66eebfb8ba"
      },
      "execution_count": null,
      "outputs": [
        {
          "output_type": "display_data",
          "data": {
            "text/plain": [
              "<PIL.Image.Image image mode=RGB size=512x512>"
            ],
            "image/png": "[encoded data removed]"
          },
          "metadata": {}
        }
      ]
    },
    {
      "cell_type": "code",
      "source": [
        "# Import necessary libraries\n",
        "import cv2\n",
        "import numpy as np\n",
        "from google.colab.patches import cv2_imshow\n",
        "from google.colab import drive\n",
        "\n",
        "# Create a black and white image (black image of size 500x500)\n",
        "image = np.zeros((500, 500, 3), dtype=\"uint8\")\n",
        "\n",
        "# Parameters for drawing a line\n",
        "line_start_point = (50, 50)\n",
        "line_end_point = (450, 50)\n",
        "line_color = (255, 0, 0)  # Blue color in BGR\n",
        "line_thickness = 3\n",
        "\n",
        "# Draw a line\n",
        "cv2.line(image, line_start_point, line_end_point, line_color, line_thickness)\n",
        "\n",
        "# Parameters for drawing an arrowed line\n",
        "arrowed_line_start_point = (50, 100)\n",
        "arrowed_line_end_point = (450, 100)\n",
        "arrowed_line_color = (0, 255, 0)  # Green color in BGR\n",
        "arrowed_line_thickness = 3\n",
        "\n",
        "# Draw an arrowed line\n",
        "cv2.arrowedLine(image, arrowed_line_start_point, arrowed_line_end_point, arrowed_line_color, arrowed_line_thickness)\n",
        "\n",
        "# Parameters for drawing a rectangle\n",
        "rectangle_top_left = (50, 150)\n",
        "rectangle_bottom_right = (450, 250)\n",
        "rectangle_color = (0, 0, 255)  # Red color in BGR\n",
        "rectangle_thickness = 3\n",
        "\n",
        "# Draw a rectangle\n",
        "cv2.rectangle(image, rectangle_top_left, rectangle_bottom_right, rectangle_color, rectangle_thickness)\n",
        "\n",
        "# Parameters for drawing a circle\n",
        "circle_center = (250, 350)\n",
        "circle_radius = 50\n",
        "circle_color = (0, 255, 255)  # Yellow color in BGR\n",
        "circle_thickness = 3\n",
        "\n",
        "# Draw a circle\n",
        "cv2.circle(image, circle_center, circle_radius, circle_color, circle_thickness)\n",
        "\n",
        "# Parameters for drawing text\n",
        "text = 'Nishit Soni'\n",
        "text_position = (50, 450)\n",
        "font = cv2.FONT_HERSHEY_SIMPLEX\n",
        "font_scale = 2\n",
        "text_color = (255, 255, 255)  # White color in BGR\n",
        "text_thickness = 3\n",
        "\n",
        "# Draw text on the image\n",
        "cv2.putText(image, text, text_position, font, font_scale, text_color, text_thickness)\n",
        "\n",
        "# Display the final image\n",
        "cv2_imshow(image)\n",
        "\n"
      ],
      "metadata": {
        "colab": {
          "base_uri": "https://localhost:8080/",
          "height": 535
        },
        "id": "BVvc1vHH_gOF",
        "outputId": "dcd9c4c4-27ac-4ad4-9180-1b982d40ecf0"
      },
      "execution_count": null,
      "outputs": [
        {
          "output_type": "display_data",
          "data": {
            "text/plain": [
              "<PIL.Image.Image image mode=RGB size=500x500>"
            ],
            "image/png": "[encoded data removed]"
          },
          "metadata": {}
        },
        {
          "output_type": "execute_result",
          "data": {
            "text/plain": [
              "False"
            ]
          },
          "metadata": {},
          "execution_count": 3
        }
      ]
    }
  ]
}