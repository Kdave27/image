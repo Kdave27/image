{
  "nbformat": 4,
  "nbformat_minor": 0,
  "metadata": {
    "colab": {
      "provenance": []
    },
    "kernelspec": {
      "name": "python3",
      "display_name": "Python 3"
    },
    "language_info": {
      "name": "python"
    }
  },
  "cells": [
    {
      "cell_type": "markdown",
      "source": [
        "Name:Kirtan Dave\n",
        "\n",
        "Roll:L012\n",
        "\n",
        "SAP ID:40778230015\n",
        "\n",
        "Lab Session 1: Experiment No.1\n",
        "\n",
        "Aim:\n",
        "\n",
        "· To get introduced to Google Colab\n",
        "\n",
        "· To understand various packages which are used for image and video analytics."
      ],
      "metadata": {
        "id": "GQoc8l_BPXoQ"
      }
    },
    {
      "cell_type": "code",
      "source": [
        "#importing OpenCV\n",
        "!pip install opencv-python\n",
        "import numpy as np\n",
        "import cv2\n",
        "print(\"OpenCV-Python Version {}\".format(cv2.__version__))"
      ],
      "metadata": {
        "colab": {
          "base_uri": "https://localhost:8080/"
        },
        "id": "cAxOQxOKPleQ",
        "outputId": "13fb2c5e-3043-499c-d5a8-06acacca5b1b"
      },
      "execution_count": null,
      "outputs": [
        {
          "output_type": "stream",
          "name": "stdout",
          "text": [
            "Requirement already satisfied: opencv-python in /usr/local/lib/python3.10/dist-packages (4.8.0.76)\n",
            "Requirement already satisfied: numpy>=1.21.2 in /usr/local/lib/python3.10/dist-packages (from opencv-python) (1.25.2)\n",
            "OpenCV-Python Version 4.8.0\n"
          ]
        }
      ]
    },
    {
      "cell_type": "markdown",
      "source": [],
      "metadata": {
        "id": "yFBZtzA1PWn6"
      }
    },
    {
      "cell_type": "code",
      "source": [
        "#importing scikit-image\n",
        "!pip install -U scikit-image\n",
        "import skimage as sk\n",
        "print(\"Skitimage version:\", sk.__version__)"
      ],
      "metadata": {
        "colab": {
          "base_uri": "https://localhost:8080/"
        },
        "id": "VdHd1DZHQT01",
        "outputId": "2a2f6a95-8760-4e15-c0d1-dde68705f015"
      },
      "execution_count": null,
      "outputs": [
        {
          "output_type": "stream",
          "name": "stdout",
          "text": [
            "Requirement already satisfied: scikit-image in /usr/local/lib/python3.10/dist-packages (0.24.0)\n",
            "Requirement already satisfied: numpy>=1.23 in /usr/local/lib/python3.10/dist-packages (from scikit-image) (1.25.2)\n",
            "Requirement already satisfied: scipy>=1.9 in /usr/local/lib/python3.10/dist-packages (from scikit-image) (1.11.4)\n",
            "Requirement already satisfied: networkx>=2.8 in /usr/local/lib/python3.10/dist-packages (from scikit-image) (3.3)\n",
            "Requirement already satisfied: pillow>=9.1 in /usr/local/lib/python3.10/dist-packages (from scikit-image) (9.4.0)\n",
            "Requirement already satisfied: imageio>=2.33 in /usr/local/lib/python3.10/dist-packages (from scikit-image) (2.34.1)\n",
            "Requirement already satisfied: tifffile>=2022.8.12 in /usr/local/lib/python3.10/dist-packages (from scikit-image) (2024.5.22)\n",
            "Requirement already satisfied: packaging>=21 in /usr/local/lib/python3.10/dist-packages (from scikit-image) (24.1)\n",
            "Requirement already satisfied: lazy-loader>=0.4 in /usr/local/lib/python3.10/dist-packages (from scikit-image) (0.4)\n",
            "Skitimage version: 0.24.0\n"
          ]
        }
      ]
    },
    {
      "cell_type": "code",
      "source": [
        "#importing scipy\n",
        "import scipy as sp\n",
        "print(\"Scipy version:\", sp.__version__)"
      ],
      "metadata": {
        "colab": {
          "base_uri": "https://localhost:8080/"
        },
        "id": "kjM6DUPKa_G2",
        "outputId": "e6afd872-c21f-471f-f2a1-d77c013c8e2f"
      },
      "execution_count": null,
      "outputs": [
        {
          "output_type": "stream",
          "name": "stdout",
          "text": [
            "Scipy version: 1.11.4\n"
          ]
        }
      ]
    }
  ]
}